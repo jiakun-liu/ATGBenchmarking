{
 "cells": [
  {
   "metadata": {
    "collapsed": true,
    "ExecuteTime": {
     "end_time": "2025-01-03T06:39:06.593167Z",
     "start_time": "2025-01-03T06:39:06.579921Z"
    }
   },
   "cell_type": "code",
   "source": "%cd /mnt/hdd1/jkliu/Projects/ATGEmpirical/",
   "id": "initial_id",
   "outputs": [
    {
     "name": "stdout",
     "output_type": "stream",
     "text": [
      "/mnt/hdd1/jkliu/Projects/ATGEmpirical\n"
     ]
    },
    {
     "name": "stderr",
     "output_type": "stream",
     "text": [
      "/mnt/hdd1/jkliu/Projects/ATGEmpirical/venv/lib/python3.10/site-packages/IPython/core/magics/osm.py:417: UserWarning: This is now an optional IPython functionality, setting dhist requires you to install the `pickleshare` library.\n",
      "  self.shell.db['dhist'] = compress_dhist(dhist)[-100:]\n"
     ]
    }
   ],
   "execution_count": 1
  },
  {
   "metadata": {
    "ExecuteTime": {
     "end_time": "2025-01-03T06:39:06.676023Z",
     "start_time": "2025-01-03T06:39:06.672338Z"
    }
   },
   "cell_type": "code",
   "source": [
    "def wrongly_reported(gt_transitions: list, tool_transitions: list):\n",
    "    return list(set(tool_transitions) - set(gt_transitions))"
   ],
   "id": "315504418e4046a0",
   "outputs": [],
   "execution_count": 2
  },
  {
   "metadata": {
    "ExecuteTime": {
     "end_time": "2025-01-03T06:39:06.966365Z",
     "start_time": "2025-01-03T06:39:06.963856Z"
    }
   },
   "cell_type": "code",
   "source": [
    "def missing_transitions(gt_transitions: list, tool_transitions: list):\n",
    "    return list(set(gt_transitions) - set(tool_transitions))"
   ],
   "id": "25a491a8776e922d",
   "outputs": [],
   "execution_count": 3
  },
  {
   "metadata": {
    "ExecuteTime": {
     "end_time": "2025-01-03T06:39:07.080661Z",
     "start_time": "2025-01-03T06:39:07.054364Z"
    }
   },
   "cell_type": "code",
   "source": [
    "from result_plot.common import *\n",
    "from core.apk_util import parse_manifest_file\n",
    "\n",
    "\n",
    "def single_apk_evaluation(apk_path: str, real_transitions: dict):\n",
    "    package_name, _, declared_activities, exported_activities = parse_manifest_file(apk_path)\n",
    "    apk_name, tool_transitions = get_tool_result(apk_path, declared_activities)\n",
    "    if tool_transitions is None:\n",
    "        return\n",
    "    if apk_name not in real_transitions:\n",
    "        return\n",
    "    real_transition = real_transitions[apk_name]\n",
    "    wrongly_reporteds = {}\n",
    "    missed_transitions = {}\n",
    "    for tool in tools:\n",
    "        if tool in tool_transitions:\n",
    "            tool_transition = tool_transitions[tool]\n",
    "            wrongly_reporteds[tool] = wrongly_reported(real_transition, tool_transition)\n",
    "            missed_transitions[tool] = missing_transitions(real_transition, tool_transition)\n",
    "    return apk_name, real_transition, wrongly_reporteds, missed_transitions\n"
   ],
   "id": "81aae0a54019161b",
   "outputs": [
    {
     "name": "stdout",
     "output_type": "stream",
     "text": [
      "Updated PATH: /usr/local/sbin:/usr/local/bin:/usr/sbin:/usr/bin:/sbin:/bin:/usr/games:/usr/local/games:/snap/bin:/mnt/hdd1/jkliu/Applications/ncurses  # 你自己的 ncurses 目录/bin:/mnt/hdd1/jkliu/Applications/zsh/bin:/mnt/hdd1/jkliu/Applications/Android/cmdline-tools/latest/bin:/mnt/hdd1/jkliu/Applications/Android/emulator:/mnt/hdd1/jkliu/Applications/Android/platform-tools:/mnt/hdd1/jkliu/Applications/Android/tools:/mnt/hdd1/jkliu/Applications/Android/tools/bin:/mnt/hdd1/jkliu/Applications/Android/build-tools/35.0.0\n",
      "/mnt/hdd1/jkliu/Applications/Android/build-tools/35.0.0/aapt\n",
      "Successfully added aapt to PATH\n"
     ]
    }
   ],
   "execution_count": 4
  },
  {
   "metadata": {
    "ExecuteTime": {
     "end_time": "2025-01-03T06:39:07.268983Z",
     "start_time": "2025-01-03T06:39:07.126926Z"
    }
   },
   "cell_type": "code",
   "source": [
    "apk_path = \"/mnt/hdd1/jkliu/Projects/ATGEmpirical/apks/fdroid/org.documentfoundation.libreoffice_38.apk\"\n",
    "set_current_version(\"first_round_no_internet\")\n",
    "apk_name, real_transition, wrongly_reporteds, missed_transitions = single_apk_evaluation(apk_path, get_real_transitions())\n",
    "print(apk_name)\n",
    "print(real_transition)\n",
    "print(wrongly_reporteds)\n",
    "print(missed_transitions)"
   ],
   "id": "bcafaf775da8496",
   "outputs": [
    {
     "name": "stdout",
     "output_type": "stream",
     "text": [
      "extracting summaries for /mnt/hdd1/jkliu/Projects/ATGEmpirical/apks/fdroid/org.documentfoundation.libreoffice_38.apk\n",
      "/mnt/hdd1/jkliu/Projects/ATGEmpirical/apks/fdroid/org.documentfoundation.libreoffice_38.apk\n",
      "['org.documentfoundation.libreoffice/org.libreoffice.ui.LibreOfficeUIActivity -> org.documentfoundation.libreoffice/org.libreoffice.SettingsActivity', 'org.documentfoundation.libreoffice/org.libreoffice.SettingsActivity -> org.documentfoundation.libreoffice/org.libreoffice.ui.LibreOfficeUIActivity', 'org.documentfoundation.libreoffice/org.libreoffice.ui.LibreOfficeUIActivity -> org.documentfoundation.libreoffice/org.libreoffice.LibreOfficeMainActivity', 'org.documentfoundation.libreoffice/org.libreoffice.LibreOfficeMainActivity -> org.documentfoundation.libreoffice/org.libreoffice.SettingsActivity', 'org.documentfoundation.libreoffice/org.libreoffice.LibreOfficeMainActivity -> org.documentfoundation.libreoffice/org.libreoffice.ui.LibreOfficeUIActivity']\n",
      "{'qtest': []}\n",
      "{'qtest': ['org.documentfoundation.libreoffice/org.libreoffice.ui.LibreOfficeUIActivity -> org.documentfoundation.libreoffice/org.libreoffice.LibreOfficeMainActivity', 'org.documentfoundation.libreoffice/org.libreoffice.SettingsActivity -> org.documentfoundation.libreoffice/org.libreoffice.ui.LibreOfficeUIActivity', 'org.documentfoundation.libreoffice/org.libreoffice.LibreOfficeMainActivity -> org.documentfoundation.libreoffice/org.libreoffice.SettingsActivity', 'org.documentfoundation.libreoffice/org.libreoffice.LibreOfficeMainActivity -> org.documentfoundation.libreoffice/org.libreoffice.ui.LibreOfficeUIActivity', 'org.documentfoundation.libreoffice/org.libreoffice.ui.LibreOfficeUIActivity -> org.documentfoundation.libreoffice/org.libreoffice.SettingsActivity']}\n"
     ]
    }
   ],
   "execution_count": 5
  },
  {
   "metadata": {
    "ExecuteTime": {
     "end_time": "2025-01-03T06:39:28.034412Z",
     "start_time": "2025-01-03T06:39:28.027822Z"
    }
   },
   "cell_type": "code",
   "source": [
    "def evaluate_all_apks(all_apks: list):\n",
    "    real_transition = get_real_transitions()\n",
    "    with open(\"sampled_real_transitions.txt\", \"w\") as f:\n",
    "        f.write(f\"Id,APK,Transition\\n\")\n",
    "        counter = 0\n",
    "        for apk in all_apks:\n",
    "            if len(real_transition[apk]) > 0:\n",
    "                for transition in real_transition[apk]:\n",
    "                    f.write(f\"{counter},{apk},{transition}\\n\")\n",
    "                counter += 1\n",
    "    with open(\"wrongly_reported.txt\", \"w\") as f:\n",
    "        f.write(f\"Id,APK,Tool,Transition,Type\\n\")\n",
    "        counter = 1\n",
    "        for apk in all_apks:\n",
    "            valid_apk = False\n",
    "            apk_name, real_transition, wrongly_reporteds, missed_transitions = single_apk_evaluation(apk, real_transitions)\n",
    "            for tool in tools:\n",
    "                if tool in wrongly_reporteds:\n",
    "                    if len(wrongly_reporteds[tool]) > 0:\n",
    "                        valid_apk = True\n",
    "                        for transition in wrongly_reporteds[tool]:\n",
    "                            f.write(f\"{counter},{apk},{tool},{transition}\\n\")\n",
    "            if valid_apk:\n",
    "                counter += 1\n",
    "    with open(\"missed_transitions.txt\", \"w\") as f:\n",
    "        f.write(f\"Id,APK,Tool,Transition,Type\\n\")\n",
    "        counter = 1\n",
    "        for apk in all_apks:\n",
    "            valid_apk = False\n",
    "            apk_name, real_transition, wrongly_reporteds, missed_transitions = single_apk_evaluation(apk, real_transitions)\n",
    "            for tool in tools:\n",
    "                if tool in missed_transitions:\n",
    "                    if len(missed_transitions[tool]) > 0:\n",
    "                        valid_apk = True\n",
    "                        for transition in missed_transitions[tool]:\n",
    "                            f.write(f\"{counter},{apk},{tool},{transition}\\n\")\n",
    "            if valid_apk:\n",
    "                counter += 1"
   ],
   "id": "bdbfb73c8e467ab0",
   "outputs": [],
   "execution_count": 8
  },
  {
   "metadata": {
    "ExecuteTime": {
     "end_time": "2025-01-03T06:39:30.091167Z",
     "start_time": "2025-01-03T06:39:29.530708Z"
    }
   },
   "cell_type": "code",
   "source": [
    "import random\n",
    "\n",
    "real_transitions = get_real_transitions()\n",
    "# shuffle the list\n",
    "sampled_apks = list(real_transitions.keys())\n",
    "random.shuffle(sampled_apks)\n",
    "# sampled_apks = sampled_apks[:10]\n",
    "set_current_version(\"first_round_no_internet\")\n",
    "evaluate_all_apks(sampled_apks)"
   ],
   "id": "69d309e25812051a",
   "outputs": [
    {
     "name": "stdout",
     "output_type": "stream",
     "text": [
      "extracting summaries for /mnt/hdd1/jkliu/Projects/ATGEmpirical/apks/fdroid/xyz.myachin.saveto_24.apk\n",
      "extracting summaries for /mnt/hdd1/jkliu/Projects/ATGEmpirical/apks/fdroid/com.darkempire78.opencalculator_42.apk\n",
      "extracting summaries for /mnt/hdd1/jkliu/Projects/ATGEmpirical/apks/fdroid/org.piepmeyer.gauguin_18.apk\n",
      "extracting summaries for /mnt/hdd1/jkliu/Projects/ATGEmpirical/apks/fdroid/com.github.muellerma.mute_reminder_18.apk\n",
      "extracting summaries for /mnt/hdd1/jkliu/Projects/ATGEmpirical/apks/fdroid/org.woheller69.arity_54.apk\n",
      "extracting summaries for /mnt/hdd1/jkliu/Projects/ATGEmpirical/apks/fdroid/com.wmstein.transektcount_401.apk\n",
      "extracting summaries for /mnt/hdd1/jkliu/Projects/ATGEmpirical/apks/fdroid/com.osfans.trime_20240101.apk\n",
      "extracting summaries for /mnt/hdd1/jkliu/Projects/ATGEmpirical/apks/fdroid/com.simplemobiletools.applauncher_53.apk\n",
      "extracting summaries for /mnt/hdd1/jkliu/Projects/ATGEmpirical/apks/fdroid/com.apps.adrcotfas.goodtime_155.apk\n",
      "extracting summaries for /mnt/hdd1/jkliu/Projects/ATGEmpirical/apks/fdroid/com.rechnen.app_20.apk\n",
      "extracting summaries for /mnt/hdd1/jkliu/Projects/ATGEmpirical/apks/fdroid/org.xphnx.ameixamonochrome_4100.apk\n",
      "extracting summaries for /mnt/hdd1/jkliu/Projects/ATGEmpirical/apks/fdroid/org.secuso.privacyfriendlyfinancemanager_7.apk\n",
      "extracting summaries for /mnt/hdd1/jkliu/Projects/ATGEmpirical/apks/fdroid/org.documentfoundation.libreoffice_38.apk\n",
      "extracting summaries for /mnt/hdd1/jkliu/Projects/ATGEmpirical/apks/androzoo/com.mlevap.datecalc_41.0.apk\n",
      "extracting summaries for /mnt/hdd1/jkliu/Projects/ATGEmpirical/apks/fdroid/com.simplemobiletools.dialer_57.apk\n",
      "extracting summaries for /mnt/hdd1/jkliu/Projects/ATGEmpirical/apks/fdroid/com.forrestguice.suntimeswidget_106.apk\n",
      "extracting summaries for /mnt/hdd1/jkliu/Projects/ATGEmpirical/apks/fdroid/com.smartpack.packagemanager_70.apk\n",
      "extracting summaries for /mnt/hdd1/jkliu/Projects/ATGEmpirical/apks/fdroid/org.biotstoiq.seshat_11.apk\n",
      "extracting summaries for /mnt/hdd1/jkliu/Projects/ATGEmpirical/apks/fdroid/org.yuttadhammo.BodhiTimer_98.apk\n",
      "extracting summaries for /mnt/hdd1/jkliu/Projects/ATGEmpirical/apks/fdroid/com.jarsilio.android.waveup_121.apk\n",
      "extracting summaries for /mnt/hdd1/jkliu/Projects/ATGEmpirical/apks/fdroid/de.chagemann.regexcrossword_33.apk\n",
      "extracting summaries for /mnt/hdd1/jkliu/Projects/ATGEmpirical/apks/fdroid/com.android.keepass_215.apk\n",
      "extracting summaries for /mnt/hdd1/jkliu/Projects/ATGEmpirical/apks/fdroid/org.woheller69.eggtimer_28.apk\n",
      "extracting summaries for /mnt/hdd1/jkliu/Projects/ATGEmpirical/apks/fdroid/com.serwylo.lexica_30015.apk\n",
      "extracting summaries for /mnt/hdd1/jkliu/Projects/ATGEmpirical/apks/fdroid/de.wuapps.moredays_19.apk\n",
      "extracting summaries for /mnt/hdd1/jkliu/Projects/ATGEmpirical/apks/fdroid/com.dozingcatsoftware.bouncy_38.apk\n",
      "extracting summaries for /mnt/hdd1/jkliu/Projects/ATGEmpirical/apks/fdroid/dev.lucanlm.antimine_1706031.apk\n",
      "extracting summaries for /mnt/hdd1/jkliu/Projects/ATGEmpirical/apks/fdroid/com.better.alarm_31504.apk\n",
      "extracting summaries for /mnt/hdd1/jkliu/Projects/ATGEmpirical/apks/fdroid/com.serwylo.babyphone_17.apk\n",
      "extracting summaries for /mnt/hdd1/jkliu/Projects/ATGEmpirical/apks/fdroid/org.tessoft.qonvert_12.apk\n",
      "extracting summaries for /mnt/hdd1/jkliu/Projects/ATGEmpirical/apks/fdroid/de.sudoq_41.apk\n",
      "extracting summaries for /mnt/hdd1/jkliu/Projects/ATGEmpirical/apks/fdroid/taco.scoop_34.apk\n",
      "extracting summaries for /mnt/hdd1/jkliu/Projects/ATGEmpirical/apks/fdroid/net.foucry.pilldroid_302.apk\n",
      "extracting summaries for /mnt/hdd1/jkliu/Projects/ATGEmpirical/apks/fdroid/org.woheller69.audiometry_190.apk\n",
      "extracting summaries for /mnt/hdd1/jkliu/Projects/ATGEmpirical/apks/fdroid/com.alaskalinuxuser.justchess_13.apk\n",
      "extracting summaries for /mnt/hdd1/jkliu/Projects/ATGEmpirical/apks/fdroid/cf.playhi.freezeyou_151.apk\n",
      "extracting summaries for /mnt/hdd1/jkliu/Projects/ATGEmpirical/apks/fdroid/com.vincentengelsoftware.vesandroidimagecompare_41.apk\n",
      "extracting summaries for /mnt/hdd1/jkliu/Projects/ATGEmpirical/apks/fdroid/at.jclehner.rxdroid_9380.apk\n",
      "extracting summaries for /mnt/hdd1/jkliu/Projects/ATGEmpirical/apks/fdroid/com.vincent_falzon.discreetlauncher_63.apk\n",
      "extracting summaries for /mnt/hdd1/jkliu/Projects/ATGEmpirical/apks/fdroid/io.github.gsantner.memetastic_73.apk\n",
      "extracting summaries for /mnt/hdd1/jkliu/Projects/ATGEmpirical/apks/fdroid/org.sensors2.pd_4.apk\n",
      "extracting summaries for /mnt/hdd1/jkliu/Projects/ATGEmpirical/apks/fdroid/hu.vmiklos.plees_tracker_51.apk\n",
      "extracting summaries for /mnt/hdd1/jkliu/Projects/ATGEmpirical/apks/fdroid/org.secuso.privacyfriendlypasswordgenerator_7.apk\n",
      "extracting summaries for /mnt/hdd1/jkliu/Projects/ATGEmpirical/apks/fdroid/eu.depau.etchdroid_21.apk\n",
      "extracting summaries for /mnt/hdd1/jkliu/Projects/ATGEmpirical/apks/fdroid/com.simplemobiletools.notes.pro_114.apk\n",
      "extracting summaries for /mnt/hdd1/jkliu/Projects/ATGEmpirical/apks/fdroid/de.markusfisch.android.wavelines_23.apk\n",
      "extracting summaries for /mnt/hdd1/jkliu/Projects/ATGEmpirical/apks/fdroid/com.simplemobiletools.draw.pro_82.apk\n",
      "extracting summaries for /mnt/hdd1/jkliu/Projects/ATGEmpirical/apks/fdroid/org.billthefarmer.siggen_136.apk\n",
      "extracting summaries for /mnt/hdd1/jkliu/Projects/ATGEmpirical/apks/fdroid/com.mrmannwood.hexlauncher_51.apk\n",
      "extracting summaries for /mnt/hdd1/jkliu/Projects/ATGEmpirical/apks/fdroid/me.rosuh.easywatermark_20809.apk\n",
      "extracting summaries for /mnt/hdd1/jkliu/Projects/ATGEmpirical/apks/fdroid/com.jarsilio.android.autoautorotate_35.apk\n",
      "extracting summaries for /mnt/hdd1/jkliu/Projects/ATGEmpirical/apks/fdroid/org.isoron.uhabits_20103.apk\n",
      "extracting summaries for /mnt/hdd1/jkliu/Projects/ATGEmpirical/apks/fdroid/us.spotco.ir_remote_1700.apk\n",
      "extracting summaries for /mnt/hdd1/jkliu/Projects/ATGEmpirical/apks/fdroid/be.chvp.nanoledger_10600.apk\n",
      "extracting summaries for /mnt/hdd1/jkliu/Projects/ATGEmpirical/apks/fdroid/com.oF2pks.chairlock_18.apk\n",
      "extracting summaries for /mnt/hdd1/jkliu/Projects/ATGEmpirical/apks/fdroid/org.billthefarmer.scope_138.apk\n",
      "extracting summaries for /mnt/hdd1/jkliu/Projects/ATGEmpirical/apks/androzoo/com.bellwoodgroup.marine.cockpitaid_21.0.apk\n",
      "extracting summaries for /mnt/hdd1/jkliu/Projects/ATGEmpirical/apks/fdroid/de.kromke.andreas.musictagger_30.apk\n",
      "extracting summaries for /mnt/hdd1/jkliu/Projects/ATGEmpirical/apks/fdroid/rocks.poopjournal.todont_10.apk\n",
      "extracting summaries for /mnt/hdd1/jkliu/Projects/ATGEmpirical/apks/fdroid/com.simplemobiletools.contacts.pro_107.apk\n",
      "extracting summaries for /mnt/hdd1/jkliu/Projects/ATGEmpirical/apks/androzoo/com.thomaskuenneth.android.birthday_2020100.0.apk\n",
      "extracting summaries for /mnt/hdd1/jkliu/Projects/ATGEmpirical/apks/fdroid/com.serwylo.babydots_10907.apk\n",
      "extracting summaries for /mnt/hdd1/jkliu/Projects/ATGEmpirical/apks/fdroid/com.gpl.rpg.AndorsTrail_75.apk\n",
      "extracting summaries for /mnt/hdd1/jkliu/Projects/ATGEmpirical/apks/androzoo/com.simplesoftwarestudio.psaltyr_87.0.apk\n",
      "extracting summaries for /mnt/hdd1/jkliu/Projects/ATGEmpirical/apks/fdroid/eu.zimbelstern.tournant_18.apk\n",
      "extracting summaries for /mnt/hdd1/jkliu/Projects/ATGEmpirical/apks/fdroid/rocks.poopjournal.flashy_7.apk\n",
      "extracting summaries for /mnt/hdd1/jkliu/Projects/ATGEmpirical/apks/fdroid/ch.blinkenlights.android.vanilla_13101.apk\n",
      "extracting summaries for /mnt/hdd1/jkliu/Projects/ATGEmpirical/apks/fdroid/at.tomtasche.reader_172.apk\n",
      "extracting summaries for /mnt/hdd1/jkliu/Projects/ATGEmpirical/apks/fdroid/com.simplemobiletools.calculator_61.apk\n",
      "extracting summaries for /mnt/hdd1/jkliu/Projects/ATGEmpirical/apks/fdroid/de.kromke.andreas.unpopmusicplayerfree_61.apk\n",
      "extracting summaries for /mnt/hdd1/jkliu/Projects/ATGEmpirical/apks/fdroid/com.winston69.simpill_20.apk\n",
      "extracting summaries for /mnt/hdd1/jkliu/Projects/ATGEmpirical/apks/fdroid/org.secuso.privacyfriendlysudoku_14.apk\n",
      "extracting summaries for /mnt/hdd1/jkliu/Projects/ATGEmpirical/apks/fdroid/org.secuso.privacyfriendlynotes_18.apk\n",
      "extracting summaries for /mnt/hdd1/jkliu/Projects/ATGEmpirical/apks/fdroid/dev.corruptedark.diditakemymeds_35.apk\n",
      "extracting summaries for /mnt/hdd1/jkliu/Projects/ATGEmpirical/apks/fdroid/com.github.axet.audiorecorder_377.apk\n",
      "extracting summaries for /mnt/hdd1/jkliu/Projects/ATGEmpirical/apks/fdroid/rocks.poopjournal.vacationdays_9.apk\n",
      "extracting summaries for /mnt/hdd1/jkliu/Projects/ATGEmpirical/apks/fdroid/com.simplemobiletools.flashlight_66.apk\n",
      "extracting summaries for /mnt/hdd1/jkliu/Projects/ATGEmpirical/apks/fdroid/souch.smp_32.apk\n",
      "extracting summaries for /mnt/hdd1/jkliu/Projects/ATGEmpirical/apks/fdroid/de.nulide.shiftcal_16.apk\n",
      "extracting summaries for /mnt/hdd1/jkliu/Projects/ATGEmpirical/apks/fdroid/com.danefinlay.ttsutil_8.apk\n",
      "extracting summaries for /mnt/hdd1/jkliu/Projects/ATGEmpirical/apks/fdroid/com.simplemobiletools.launcher_10.apk\n",
      "extracting summaries for /mnt/hdd1/jkliu/Projects/ATGEmpirical/apks/fdroid/de.k3b.android.toGoZip_30.apk\n",
      "extracting summaries for /mnt/hdd1/jkliu/Projects/ATGEmpirical/apks/fdroid/de.neuwirthinformatik.alexander.archerystats_6.apk\n",
      "extracting summaries for /mnt/hdd1/jkliu/Projects/ATGEmpirical/apks/fdroid/com.tserumula.dbcleanerforwhatsapp_9.apk\n",
      "extracting summaries for /mnt/hdd1/jkliu/Projects/ATGEmpirical/apks/fdroid/com.caydey.ffshare_17.apk\n",
      "extracting summaries for /mnt/hdd1/jkliu/Projects/ATGEmpirical/apks/fdroid/xyz.myachin.saveto_24.apk\n",
      "extracting summaries for /mnt/hdd1/jkliu/Projects/ATGEmpirical/apks/fdroid/com.darkempire78.opencalculator_42.apk\n",
      "extracting summaries for /mnt/hdd1/jkliu/Projects/ATGEmpirical/apks/fdroid/org.piepmeyer.gauguin_18.apk\n",
      "extracting summaries for /mnt/hdd1/jkliu/Projects/ATGEmpirical/apks/fdroid/com.github.muellerma.mute_reminder_18.apk\n",
      "extracting summaries for /mnt/hdd1/jkliu/Projects/ATGEmpirical/apks/fdroid/org.woheller69.arity_54.apk\n",
      "extracting summaries for /mnt/hdd1/jkliu/Projects/ATGEmpirical/apks/fdroid/com.wmstein.transektcount_401.apk\n",
      "extracting summaries for /mnt/hdd1/jkliu/Projects/ATGEmpirical/apks/fdroid/com.osfans.trime_20240101.apk\n",
      "extracting summaries for /mnt/hdd1/jkliu/Projects/ATGEmpirical/apks/fdroid/com.simplemobiletools.applauncher_53.apk\n",
      "extracting summaries for /mnt/hdd1/jkliu/Projects/ATGEmpirical/apks/fdroid/com.apps.adrcotfas.goodtime_155.apk\n",
      "extracting summaries for /mnt/hdd1/jkliu/Projects/ATGEmpirical/apks/fdroid/com.rechnen.app_20.apk\n",
      "extracting summaries for /mnt/hdd1/jkliu/Projects/ATGEmpirical/apks/fdroid/org.xphnx.ameixamonochrome_4100.apk\n",
      "extracting summaries for /mnt/hdd1/jkliu/Projects/ATGEmpirical/apks/fdroid/org.secuso.privacyfriendlyfinancemanager_7.apk\n",
      "extracting summaries for /mnt/hdd1/jkliu/Projects/ATGEmpirical/apks/fdroid/org.documentfoundation.libreoffice_38.apk\n",
      "extracting summaries for /mnt/hdd1/jkliu/Projects/ATGEmpirical/apks/androzoo/com.mlevap.datecalc_41.0.apk\n",
      "extracting summaries for /mnt/hdd1/jkliu/Projects/ATGEmpirical/apks/fdroid/com.simplemobiletools.dialer_57.apk\n",
      "extracting summaries for /mnt/hdd1/jkliu/Projects/ATGEmpirical/apks/fdroid/com.forrestguice.suntimeswidget_106.apk\n",
      "extracting summaries for /mnt/hdd1/jkliu/Projects/ATGEmpirical/apks/fdroid/com.smartpack.packagemanager_70.apk\n",
      "extracting summaries for /mnt/hdd1/jkliu/Projects/ATGEmpirical/apks/fdroid/org.biotstoiq.seshat_11.apk\n",
      "extracting summaries for /mnt/hdd1/jkliu/Projects/ATGEmpirical/apks/fdroid/org.yuttadhammo.BodhiTimer_98.apk\n",
      "extracting summaries for /mnt/hdd1/jkliu/Projects/ATGEmpirical/apks/fdroid/com.jarsilio.android.waveup_121.apk\n",
      "extracting summaries for /mnt/hdd1/jkliu/Projects/ATGEmpirical/apks/fdroid/de.chagemann.regexcrossword_33.apk\n",
      "extracting summaries for /mnt/hdd1/jkliu/Projects/ATGEmpirical/apks/fdroid/com.android.keepass_215.apk\n",
      "extracting summaries for /mnt/hdd1/jkliu/Projects/ATGEmpirical/apks/fdroid/org.woheller69.eggtimer_28.apk\n",
      "extracting summaries for /mnt/hdd1/jkliu/Projects/ATGEmpirical/apks/fdroid/com.serwylo.lexica_30015.apk\n",
      "extracting summaries for /mnt/hdd1/jkliu/Projects/ATGEmpirical/apks/fdroid/de.wuapps.moredays_19.apk\n",
      "extracting summaries for /mnt/hdd1/jkliu/Projects/ATGEmpirical/apks/fdroid/com.dozingcatsoftware.bouncy_38.apk\n",
      "extracting summaries for /mnt/hdd1/jkliu/Projects/ATGEmpirical/apks/fdroid/dev.lucanlm.antimine_1706031.apk\n",
      "extracting summaries for /mnt/hdd1/jkliu/Projects/ATGEmpirical/apks/fdroid/com.better.alarm_31504.apk\n",
      "extracting summaries for /mnt/hdd1/jkliu/Projects/ATGEmpirical/apks/fdroid/com.serwylo.babyphone_17.apk\n",
      "extracting summaries for /mnt/hdd1/jkliu/Projects/ATGEmpirical/apks/fdroid/org.tessoft.qonvert_12.apk\n",
      "extracting summaries for /mnt/hdd1/jkliu/Projects/ATGEmpirical/apks/fdroid/de.sudoq_41.apk\n",
      "extracting summaries for /mnt/hdd1/jkliu/Projects/ATGEmpirical/apks/fdroid/taco.scoop_34.apk\n",
      "extracting summaries for /mnt/hdd1/jkliu/Projects/ATGEmpirical/apks/fdroid/net.foucry.pilldroid_302.apk\n",
      "extracting summaries for /mnt/hdd1/jkliu/Projects/ATGEmpirical/apks/fdroid/org.woheller69.audiometry_190.apk\n",
      "extracting summaries for /mnt/hdd1/jkliu/Projects/ATGEmpirical/apks/fdroid/com.alaskalinuxuser.justchess_13.apk\n",
      "extracting summaries for /mnt/hdd1/jkliu/Projects/ATGEmpirical/apks/fdroid/cf.playhi.freezeyou_151.apk\n",
      "extracting summaries for /mnt/hdd1/jkliu/Projects/ATGEmpirical/apks/fdroid/com.vincentengelsoftware.vesandroidimagecompare_41.apk\n",
      "extracting summaries for /mnt/hdd1/jkliu/Projects/ATGEmpirical/apks/fdroid/at.jclehner.rxdroid_9380.apk\n",
      "extracting summaries for /mnt/hdd1/jkliu/Projects/ATGEmpirical/apks/fdroid/com.vincent_falzon.discreetlauncher_63.apk\n",
      "extracting summaries for /mnt/hdd1/jkliu/Projects/ATGEmpirical/apks/fdroid/io.github.gsantner.memetastic_73.apk\n",
      "extracting summaries for /mnt/hdd1/jkliu/Projects/ATGEmpirical/apks/fdroid/org.sensors2.pd_4.apk\n",
      "extracting summaries for /mnt/hdd1/jkliu/Projects/ATGEmpirical/apks/fdroid/hu.vmiklos.plees_tracker_51.apk\n",
      "extracting summaries for /mnt/hdd1/jkliu/Projects/ATGEmpirical/apks/fdroid/org.secuso.privacyfriendlypasswordgenerator_7.apk\n",
      "extracting summaries for /mnt/hdd1/jkliu/Projects/ATGEmpirical/apks/fdroid/eu.depau.etchdroid_21.apk\n",
      "extracting summaries for /mnt/hdd1/jkliu/Projects/ATGEmpirical/apks/fdroid/com.simplemobiletools.notes.pro_114.apk\n",
      "extracting summaries for /mnt/hdd1/jkliu/Projects/ATGEmpirical/apks/fdroid/de.markusfisch.android.wavelines_23.apk\n",
      "extracting summaries for /mnt/hdd1/jkliu/Projects/ATGEmpirical/apks/fdroid/com.simplemobiletools.draw.pro_82.apk\n",
      "extracting summaries for /mnt/hdd1/jkliu/Projects/ATGEmpirical/apks/fdroid/org.billthefarmer.siggen_136.apk\n",
      "extracting summaries for /mnt/hdd1/jkliu/Projects/ATGEmpirical/apks/fdroid/com.mrmannwood.hexlauncher_51.apk\n",
      "extracting summaries for /mnt/hdd1/jkliu/Projects/ATGEmpirical/apks/fdroid/me.rosuh.easywatermark_20809.apk\n",
      "extracting summaries for /mnt/hdd1/jkliu/Projects/ATGEmpirical/apks/fdroid/com.jarsilio.android.autoautorotate_35.apk\n",
      "extracting summaries for /mnt/hdd1/jkliu/Projects/ATGEmpirical/apks/fdroid/org.isoron.uhabits_20103.apk\n",
      "extracting summaries for /mnt/hdd1/jkliu/Projects/ATGEmpirical/apks/fdroid/us.spotco.ir_remote_1700.apk\n",
      "extracting summaries for /mnt/hdd1/jkliu/Projects/ATGEmpirical/apks/fdroid/be.chvp.nanoledger_10600.apk\n",
      "extracting summaries for /mnt/hdd1/jkliu/Projects/ATGEmpirical/apks/fdroid/com.oF2pks.chairlock_18.apk\n",
      "extracting summaries for /mnt/hdd1/jkliu/Projects/ATGEmpirical/apks/fdroid/org.billthefarmer.scope_138.apk\n",
      "extracting summaries for /mnt/hdd1/jkliu/Projects/ATGEmpirical/apks/androzoo/com.bellwoodgroup.marine.cockpitaid_21.0.apk\n",
      "extracting summaries for /mnt/hdd1/jkliu/Projects/ATGEmpirical/apks/fdroid/de.kromke.andreas.musictagger_30.apk\n",
      "extracting summaries for /mnt/hdd1/jkliu/Projects/ATGEmpirical/apks/fdroid/rocks.poopjournal.todont_10.apk\n",
      "extracting summaries for /mnt/hdd1/jkliu/Projects/ATGEmpirical/apks/fdroid/com.simplemobiletools.contacts.pro_107.apk\n",
      "extracting summaries for /mnt/hdd1/jkliu/Projects/ATGEmpirical/apks/androzoo/com.thomaskuenneth.android.birthday_2020100.0.apk\n",
      "extracting summaries for /mnt/hdd1/jkliu/Projects/ATGEmpirical/apks/fdroid/com.serwylo.babydots_10907.apk\n",
      "extracting summaries for /mnt/hdd1/jkliu/Projects/ATGEmpirical/apks/fdroid/com.gpl.rpg.AndorsTrail_75.apk\n",
      "extracting summaries for /mnt/hdd1/jkliu/Projects/ATGEmpirical/apks/androzoo/com.simplesoftwarestudio.psaltyr_87.0.apk\n",
      "extracting summaries for /mnt/hdd1/jkliu/Projects/ATGEmpirical/apks/fdroid/eu.zimbelstern.tournant_18.apk\n",
      "extracting summaries for /mnt/hdd1/jkliu/Projects/ATGEmpirical/apks/fdroid/rocks.poopjournal.flashy_7.apk\n",
      "extracting summaries for /mnt/hdd1/jkliu/Projects/ATGEmpirical/apks/fdroid/ch.blinkenlights.android.vanilla_13101.apk\n",
      "extracting summaries for /mnt/hdd1/jkliu/Projects/ATGEmpirical/apks/fdroid/at.tomtasche.reader_172.apk\n",
      "extracting summaries for /mnt/hdd1/jkliu/Projects/ATGEmpirical/apks/fdroid/com.simplemobiletools.calculator_61.apk\n",
      "extracting summaries for /mnt/hdd1/jkliu/Projects/ATGEmpirical/apks/fdroid/de.kromke.andreas.unpopmusicplayerfree_61.apk\n",
      "extracting summaries for /mnt/hdd1/jkliu/Projects/ATGEmpirical/apks/fdroid/com.winston69.simpill_20.apk\n",
      "extracting summaries for /mnt/hdd1/jkliu/Projects/ATGEmpirical/apks/fdroid/org.secuso.privacyfriendlysudoku_14.apk\n",
      "extracting summaries for /mnt/hdd1/jkliu/Projects/ATGEmpirical/apks/fdroid/org.secuso.privacyfriendlynotes_18.apk\n",
      "extracting summaries for /mnt/hdd1/jkliu/Projects/ATGEmpirical/apks/fdroid/dev.corruptedark.diditakemymeds_35.apk\n",
      "extracting summaries for /mnt/hdd1/jkliu/Projects/ATGEmpirical/apks/fdroid/com.github.axet.audiorecorder_377.apk\n",
      "extracting summaries for /mnt/hdd1/jkliu/Projects/ATGEmpirical/apks/fdroid/rocks.poopjournal.vacationdays_9.apk\n",
      "extracting summaries for /mnt/hdd1/jkliu/Projects/ATGEmpirical/apks/fdroid/com.simplemobiletools.flashlight_66.apk\n",
      "extracting summaries for /mnt/hdd1/jkliu/Projects/ATGEmpirical/apks/fdroid/souch.smp_32.apk\n",
      "extracting summaries for /mnt/hdd1/jkliu/Projects/ATGEmpirical/apks/fdroid/de.nulide.shiftcal_16.apk\n",
      "extracting summaries for /mnt/hdd1/jkliu/Projects/ATGEmpirical/apks/fdroid/com.danefinlay.ttsutil_8.apk\n",
      "extracting summaries for /mnt/hdd1/jkliu/Projects/ATGEmpirical/apks/fdroid/com.simplemobiletools.launcher_10.apk\n",
      "extracting summaries for /mnt/hdd1/jkliu/Projects/ATGEmpirical/apks/fdroid/de.k3b.android.toGoZip_30.apk\n",
      "extracting summaries for /mnt/hdd1/jkliu/Projects/ATGEmpirical/apks/fdroid/de.neuwirthinformatik.alexander.archerystats_6.apk\n",
      "extracting summaries for /mnt/hdd1/jkliu/Projects/ATGEmpirical/apks/fdroid/com.tserumula.dbcleanerforwhatsapp_9.apk\n",
      "extracting summaries for /mnt/hdd1/jkliu/Projects/ATGEmpirical/apks/fdroid/com.caydey.ffshare_17.apk\n"
     ]
    }
   ],
   "execution_count": 9
  }
 ],
 "metadata": {
  "kernelspec": {
   "display_name": "Python 3",
   "language": "python",
   "name": "python3"
  },
  "language_info": {
   "codemirror_mode": {
    "name": "ipython",
    "version": 2
   },
   "file_extension": ".py",
   "mimetype": "text/x-python",
   "name": "python",
   "nbconvert_exporter": "python",
   "pygments_lexer": "ipython2",
   "version": "2.7.6"
  }
 },
 "nbformat": 4,
 "nbformat_minor": 5
}
